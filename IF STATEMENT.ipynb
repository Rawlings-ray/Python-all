{
 "cells": [
  {
   "cell_type": "markdown",
   "id": "4d240c81",
   "metadata": {},
   "source": [
    "Write a program that asks User to enter a number .Program should then tell if number is odd or even."
   ]
  },
  {
   "cell_type": "code",
   "execution_count": 4,
   "id": "3116d7bc",
   "metadata": {},
   "outputs": [
    {
     "name": "stdout",
     "output_type": "stream",
     "text": [
      "Enter a number: 5\n",
      "Number is odd\n"
     ]
    }
   ],
   "source": [
    "num=input('Enter a number: ')\n",
    "num=int(num)\n",
    "if num%2==0:\n",
    "    print('Number is even')\n",
    "else:\n",
    "    print('Number is odd')\n"
   ]
  },
  {
   "cell_type": "markdown",
   "id": "c75e1616",
   "metadata": {},
   "source": [
    "Write a program that asks user to enter a dish name and it should print which dish is that dish."
   ]
  },
  {
   "cell_type": "code",
   "execution_count": 9,
   "id": "84ded612",
   "metadata": {},
   "outputs": [
    {
     "name": "stdout",
     "output_type": "stream",
     "text": [
      "Enter a dish name: ugali\n",
      "I don't know this dish\n"
     ]
    }
   ],
   "source": [
    "indian = ['samosa','daal','naan']\n",
    "chinese=['egg role','pot sticker','fried rice']\n",
    "italian=['pizza','pasta','risotto']\n",
    "\n",
    "dish=input('Enter a dish name: ')\n",
    "\n",
    "if dish in indian:\n",
    "    print('Indian Dish')\n",
    "elif dish in chinese:\n",
    "    print('chinese Dish')\n",
    "elif dish in italian:\n",
    "    print('Italian Dish')\n",
    "else:\n",
    "    print(\"I don't know this dish\")"
   ]
  },
  {
   "cell_type": "code",
   "execution_count": null,
   "id": "5d1e673d",
   "metadata": {},
   "outputs": [],
   "source": []
  },
  {
   "cell_type": "code",
   "execution_count": null,
   "id": "717a5ec7",
   "metadata": {},
   "outputs": [],
   "source": []
  },
  {
   "cell_type": "code",
   "execution_count": null,
   "id": "0f2c8d13",
   "metadata": {},
   "outputs": [],
   "source": []
  },
  {
   "cell_type": "code",
   "execution_count": null,
   "id": "ddf16b9c",
   "metadata": {},
   "outputs": [],
   "source": []
  }
 ],
 "metadata": {
  "kernelspec": {
   "display_name": "Python 3 (ipykernel)",
   "language": "python",
   "name": "python3"
  },
  "language_info": {
   "codemirror_mode": {
    "name": "ipython",
    "version": 3
   },
   "file_extension": ".py",
   "mimetype": "text/x-python",
   "name": "python",
   "nbconvert_exporter": "python",
   "pygments_lexer": "ipython3",
   "version": "3.11.4"
  }
 },
 "nbformat": 4,
 "nbformat_minor": 5
}
