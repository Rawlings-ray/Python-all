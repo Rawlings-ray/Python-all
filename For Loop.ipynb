{
 "cells": [
  {
   "cell_type": "markdown",
   "id": "f353fb01",
   "metadata": {},
   "source": [
    "FOR LOOP"
   ]
  },
  {
   "cell_type": "code",
   "execution_count": 3,
   "id": "12acf2e7",
   "metadata": {},
   "outputs": [
    {
     "name": "stdout",
     "output_type": "stream",
     "text": [
      "Total expense is:  13020\n"
     ]
    }
   ],
   "source": [
    "exp=[2340,2500,2100,3100,2980]\n",
    "Total=0\n",
    "for item in exp:\n",
    "    Total=Total+item\n",
    "print ('Total expense is: ',Total)"
   ]
  },
  {
   "cell_type": "markdown",
   "id": "d9be183e",
   "metadata": {},
   "source": [
    "PRINT 1 TO 10 USING RANGE()"
   ]
  },
  {
   "cell_type": "code",
   "execution_count": 5,
   "id": "1e711325",
   "metadata": {},
   "outputs": [
    {
     "name": "stdout",
     "output_type": "stream",
     "text": [
      "1\n",
      "2\n",
      "3\n",
      "4\n",
      "5\n",
      "6\n",
      "7\n",
      "8\n",
      "9\n",
      "10\n"
     ]
    }
   ],
   "source": [
    "for num in range(1,11):\n",
    "    print(num)"
   ]
  },
  {
   "cell_type": "code",
   "execution_count": 11,
   "id": "cfcb0bd9",
   "metadata": {},
   "outputs": [
    {
     "name": "stdout",
     "output_type": "stream",
     "text": [
      "55\n"
     ]
    }
   ],
   "source": [
    "Total=0\n",
    "for num in range(1,11):\n",
    "    Total=Total+num\n",
    "print(Total)"
   ]
  },
  {
   "cell_type": "markdown",
   "id": "7e6b1ccf",
   "metadata": {},
   "source": [
    "PRINT SQUARE OF 1 TO 10 USING RANGE()"
   ]
  },
  {
   "cell_type": "code",
   "execution_count": 8,
   "id": "539165d4",
   "metadata": {},
   "outputs": [
    {
     "name": "stdout",
     "output_type": "stream",
     "text": [
      "1\n",
      "4\n",
      "9\n",
      "16\n",
      "25\n",
      "36\n",
      "49\n",
      "64\n",
      "81\n",
      "100\n"
     ]
    }
   ],
   "source": [
    "for num in range(1,11):\n",
    "    print(num*num)"
   ]
  },
  {
   "cell_type": "markdown",
   "id": "7eb8ece6",
   "metadata": {},
   "source": [
    "IN OUR MONTHLY EXPENSE EXAMPLE ,PRINT MONTH NUMBER AND EXPENSE AND THEN IN THE END PRINT TOTAL EXPENSE."
   ]
  },
  {
   "cell_type": "code",
   "execution_count": 13,
   "id": "671e40ac",
   "metadata": {},
   "outputs": [
    {
     "name": "stdout",
     "output_type": "stream",
     "text": [
      "Month: 1 Expense: 2340\n",
      "Month: 2 Expense: 2500\n",
      "Month: 3 Expense: 2100\n",
      "Month: 4 Expense: 3100\n",
      "Month: 5 Expense: 2980\n",
      "Total expense is: 13020\n"
     ]
    }
   ],
   "source": [
    "exp=[2340,2500,2100,3100,2980]\n",
    "\n",
    "total=0\n",
    "for item in range(len(exp)):\n",
    "    print('Month:',(item+1),'Expense:',exp[item])\n",
    "    total=total+exp[item]\n",
    "print('Total expense is:',total)"
   ]
  },
  {
   "cell_type": "markdown",
   "id": "9faa229f",
   "metadata": {},
   "source": [
    "SEARCH FOR LOST CAR KEY IN HOME AND WHEN FOUND STOP SEARCHING."
   ]
  },
  {
   "cell_type": "code",
   "execution_count": 15,
   "id": "74ada8ff",
   "metadata": {},
   "outputs": [
    {
     "name": "stdout",
     "output_type": "stream",
     "text": [
      "Key is not found in  garage\n",
      "Key is not found in  living room\n",
      "Key is found in chair\n"
     ]
    }
   ],
   "source": [
    "key_location='chair'\n",
    "locations=['garage','living room','chair','closet']\n",
    "for location in locations:\n",
    "    if location==key_location:\n",
    "        print('Key is found in',location)\n",
    "        break\n",
    "    else:\n",
    "        print('Key is not found in ',location)\n",
    "    \n"
   ]
  },
  {
   "cell_type": "markdown",
   "id": "1bce87e9",
   "metadata": {},
   "source": [
    "PRINT SQUARE OF NUMBERS BETWEEN 1 TO 5 EXCEPT EVEN NUMBERS."
   ]
  },
  {
   "cell_type": "code",
   "execution_count": 17,
   "id": "05756de6",
   "metadata": {},
   "outputs": [
    {
     "name": "stdout",
     "output_type": "stream",
     "text": [
      "1\n",
      "9\n",
      "25\n"
     ]
    }
   ],
   "source": [
    "for num in range(1,6):\n",
    "    if num%2==0:\n",
    "        continue\n",
    "    print (num*num)"
   ]
  },
  {
   "cell_type": "markdown",
   "id": "980e71a5",
   "metadata": {},
   "source": [
    "WHILE LOOP"
   ]
  },
  {
   "cell_type": "code",
   "execution_count": 19,
   "id": "65206ad8",
   "metadata": {},
   "outputs": [
    {
     "name": "stdout",
     "output_type": "stream",
     "text": [
      "1\n",
      "2\n",
      "3\n",
      "4\n",
      "5\n"
     ]
    }
   ],
   "source": [
    "num=1\n",
    "while num<=5:\n",
    "    print(num)\n",
    "    num=num+1"
   ]
  }
 ],
 "metadata": {
  "kernelspec": {
   "display_name": "Python 3 (ipykernel)",
   "language": "python",
   "name": "python3"
  },
  "language_info": {
   "codemirror_mode": {
    "name": "ipython",
    "version": 3
   },
   "file_extension": ".py",
   "mimetype": "text/x-python",
   "name": "python",
   "nbconvert_exporter": "python",
   "pygments_lexer": "ipython3",
   "version": "3.11.4"
  }
 },
 "nbformat": 4,
 "nbformat_minor": 5
}
