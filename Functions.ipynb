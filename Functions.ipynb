{
 "cells": [
  {
   "cell_type": "code",
   "execution_count": 2,
   "id": "8a3c54a8",
   "metadata": {},
   "outputs": [
    {
     "name": "stdout",
     "output_type": "stream",
     "text": [
      "Tom's total expenses: 9000\n",
      "Joe's total expenses: 1400\n"
     ]
    }
   ],
   "source": [
    "def calculate_total(exp):\n",
    "    total=0\n",
    "    for item in exp:\n",
    "        total=total+item\n",
    "    return total\n",
    "\n",
    "tom_exp_list=[2100,3400,3500]\n",
    "joe_exp_list=[200,500,700]\n",
    "\n",
    "toms_total=calculate_total(tom_exp_list)\n",
    "joes_total=calculate_total(joe_exp_list)\n",
    "\n",
    "print(\"Tom's total expenses:\",toms_total)\n",
    "print(\"Joe's total expenses:\",joes_total)"
   ]
  },
  {
   "cell_type": "code",
   "execution_count": 4,
   "id": "e9fb15d5",
   "metadata": {},
   "outputs": [
    {
     "name": "stdout",
     "output_type": "stream",
     "text": [
      "Total: 11\n"
     ]
    }
   ],
   "source": [
    "def sum(a,b):\n",
    "    total=a+b\n",
    "    return total\n",
    "n=sum(5,6)\n",
    "print('Total:',n)"
   ]
  },
  {
   "cell_type": "code",
   "execution_count": null,
   "id": "56012572",
   "metadata": {},
   "outputs": [],
   "source": []
  },
  {
   "cell_type": "code",
   "execution_count": null,
   "id": "e06df58e",
   "metadata": {},
   "outputs": [],
   "source": []
  },
  {
   "cell_type": "code",
   "execution_count": null,
   "id": "6d589ac0",
   "metadata": {},
   "outputs": [],
   "source": []
  },
  {
   "cell_type": "code",
   "execution_count": null,
   "id": "bed6e321",
   "metadata": {},
   "outputs": [],
   "source": []
  },
  {
   "cell_type": "code",
   "execution_count": null,
   "id": "8c95525a",
   "metadata": {},
   "outputs": [],
   "source": []
  },
  {
   "cell_type": "code",
   "execution_count": null,
   "id": "0c829ef6",
   "metadata": {},
   "outputs": [],
   "source": []
  },
  {
   "cell_type": "code",
   "execution_count": null,
   "id": "614a14e5",
   "metadata": {},
   "outputs": [],
   "source": []
  },
  {
   "cell_type": "code",
   "execution_count": null,
   "id": "2f5d6af9",
   "metadata": {},
   "outputs": [],
   "source": []
  },
  {
   "cell_type": "code",
   "execution_count": null,
   "id": "e30480b5",
   "metadata": {},
   "outputs": [],
   "source": []
  }
 ],
 "metadata": {
  "kernelspec": {
   "display_name": "Python 3 (ipykernel)",
   "language": "python",
   "name": "python3"
  },
  "language_info": {
   "codemirror_mode": {
    "name": "ipython",
    "version": 3
   },
   "file_extension": ".py",
   "mimetype": "text/x-python",
   "name": "python",
   "nbconvert_exporter": "python",
   "pygments_lexer": "ipython3",
   "version": "3.11.4"
  }
 },
 "nbformat": 4,
 "nbformat_minor": 5
}
