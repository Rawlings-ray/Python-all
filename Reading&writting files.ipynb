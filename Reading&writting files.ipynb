{
 "cells": [
  {
   "cell_type": "markdown",
   "id": "31090771",
   "metadata": {},
   "source": [
    "writting a file"
   ]
  },
  {
   "cell_type": "code",
   "execution_count": 6,
   "id": "76dbd3fe",
   "metadata": {},
   "outputs": [],
   "source": [
    "f=open (\"C:\\\\Users\\\\Raymond\\\\Desktop\\\\Exercise\\\\Python\\\\Funny.txt\",\"w\")\n",
    "f.write(\"I love Python\")\n",
    "f.close()"
   ]
  },
  {
   "cell_type": "markdown",
   "id": "7b5b5e72",
   "metadata": {},
   "source": [
    "appending"
   ]
  },
  {
   "cell_type": "code",
   "execution_count": 7,
   "id": "2ec7ff73",
   "metadata": {},
   "outputs": [],
   "source": [
    "f=open (\"C:\\\\Users\\\\Raymond\\\\Desktop\\\\Exercise\\\\Python\\\\Funny.txt\",\"a\")\n",
    "f.write(\"\\nI love Javascript\")\n",
    "f.close()"
   ]
  },
  {
   "cell_type": "markdown",
   "id": "d9971a74",
   "metadata": {},
   "source": [
    "write a code that will read through the file.\n",
    "\n",
    "Count the number of words in a line.\n",
    "\n",
    "then append the counts on the start of the line"
   ]
  },
  {
   "cell_type": "code",
   "execution_count": 16,
   "id": "bb989433",
   "metadata": {},
   "outputs": [],
   "source": [
    "f=open (\"C:\\\\Users\\\\Raymond\\\\Desktop\\\\Exercise\\\\Python\\\\Funny.txt\",\"r\")\n",
    "f_out=open (\"C:\\\\Users\\\\Raymond\\\\Desktop\\\\Exercise\\\\Python\\\\Funny_wc.txt\",\"w\")\n",
    "for line in f:\n",
    "    tokens=line.split(' ')\n",
    "    f_out.write(\"wordcount:\"+str(len(tokens))+line)\n",
    "f.close()\n",
    "f_out.close()"
   ]
  },
  {
   "cell_type": "markdown",
   "id": "793e5532",
   "metadata": {},
   "source": [
    "File open modes"
   ]
  },
  {
   "cell_type": "markdown",
   "id": "3cd7e279",
   "metadata": {},
   "source": [
    "r-open file for reading only.\n",
    "\n",
    "w-open file for writing only.\n",
    "\n",
    "r+-open file for both reading and writing.\n",
    "\n",
    "w+-open file for both reading and writing.\n",
    "\n",
    "a-open a file in append mode."
   ]
  },
  {
   "cell_type": "code",
   "execution_count": null,
   "id": "20e6884b",
   "metadata": {},
   "outputs": [],
   "source": []
  },
  {
   "cell_type": "markdown",
   "id": "72fb4644",
   "metadata": {},
   "source": [
    "with statement."
   ]
  },
  {
   "cell_type": "code",
   "execution_count": 17,
   "id": "3b9b4bb0",
   "metadata": {},
   "outputs": [
    {
     "name": "stdout",
     "output_type": "stream",
     "text": [
      "Teacher: Why are you late,Frank?\n",
      "Frank: Because of the Sign.\n",
      "Teacher: What sign?\n",
      "Frank: The one that says \"school ahead, Go slow\"\n",
      "True\n"
     ]
    }
   ],
   "source": [
    "with open(\"C:\\\\Users\\\\Raymond\\\\Desktop\\\\Exercise\\\\Python\\\\Funny.txt\",\"r\") as f:\n",
    "    print(f.read())\n",
    "print(f.closed)"
   ]
  },
  {
   "cell_type": "code",
   "execution_count": null,
   "id": "e55ede7a",
   "metadata": {},
   "outputs": [],
   "source": []
  }
 ],
 "metadata": {
  "kernelspec": {
   "display_name": "Python 3 (ipykernel)",
   "language": "python",
   "name": "python3"
  },
  "language_info": {
   "codemirror_mode": {
    "name": "ipython",
    "version": 3
   },
   "file_extension": ".py",
   "mimetype": "text/x-python",
   "name": "python",
   "nbconvert_exporter": "python",
   "pygments_lexer": "ipython3",
   "version": "3.11.4"
  }
 },
 "nbformat": 4,
 "nbformat_minor": 5
}
