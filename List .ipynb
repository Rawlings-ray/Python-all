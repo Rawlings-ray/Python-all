{
 "cells": [
  {
   "cell_type": "markdown",
   "id": "a5166600",
   "metadata": {},
   "source": [
    "LIST IN PYTHON"
   ]
  },
  {
   "cell_type": "code",
   "execution_count": 2,
   "id": "940f7ad8",
   "metadata": {},
   "outputs": [],
   "source": [
    "items = ['bread','pasta','fruits','Vegetables']"
   ]
  },
  {
   "cell_type": "code",
   "execution_count": 4,
   "id": "1351f943",
   "metadata": {},
   "outputs": [
    {
     "name": "stdout",
     "output_type": "stream",
     "text": [
      "['bread', 'pasta', 'fruits', 'Vegetables']\n"
     ]
    }
   ],
   "source": [
    "print(items)"
   ]
  },
  {
   "cell_type": "markdown",
   "id": "4cacf051",
   "metadata": {},
   "source": [
    "INDEXES IN LIST[0]"
   ]
  },
  {
   "cell_type": "code",
   "execution_count": 5,
   "id": "4d5d69e4",
   "metadata": {},
   "outputs": [
    {
     "data": {
      "text/plain": [
       "'bread'"
      ]
     },
     "execution_count": 5,
     "metadata": {},
     "output_type": "execute_result"
    }
   ],
   "source": [
    "items[0]"
   ]
  },
  {
   "cell_type": "code",
   "execution_count": 6,
   "id": "1e719366",
   "metadata": {},
   "outputs": [
    {
     "data": {
      "text/plain": [
       "'fruits'"
      ]
     },
     "execution_count": 6,
     "metadata": {},
     "output_type": "execute_result"
    }
   ],
   "source": [
    "items[2]"
   ]
  },
  {
   "cell_type": "code",
   "execution_count": 7,
   "id": "63f0b717",
   "metadata": {},
   "outputs": [],
   "source": [
    "items[0]='chips'"
   ]
  },
  {
   "cell_type": "code",
   "execution_count": 8,
   "id": "f0fd15a3",
   "metadata": {},
   "outputs": [
    {
     "data": {
      "text/plain": [
       "['chips', 'pasta', 'fruits', 'Vegetables']"
      ]
     },
     "execution_count": 8,
     "metadata": {},
     "output_type": "execute_result"
    }
   ],
   "source": [
    "items"
   ]
  },
  {
   "cell_type": "markdown",
   "id": "4ea6393d",
   "metadata": {},
   "source": [
    "ACCESS MULTIPLE ITEMS IN THE LIST"
   ]
  },
  {
   "cell_type": "code",
   "execution_count": 9,
   "id": "b6f3d620",
   "metadata": {},
   "outputs": [
    {
     "data": {
      "text/plain": [
       "['chips', 'pasta']"
      ]
     },
     "execution_count": 9,
     "metadata": {},
     "output_type": "execute_result"
    }
   ],
   "source": [
    "items[0:2]"
   ]
  },
  {
   "cell_type": "markdown",
   "id": "57bae212",
   "metadata": {},
   "source": [
    "LAST ITEM IN THE LIST"
   ]
  },
  {
   "cell_type": "code",
   "execution_count": 10,
   "id": "9854fea3",
   "metadata": {},
   "outputs": [
    {
     "data": {
      "text/plain": [
       "'Vegetables'"
      ]
     },
     "execution_count": 10,
     "metadata": {},
     "output_type": "execute_result"
    }
   ],
   "source": [
    "items[-1]"
   ]
  },
  {
   "cell_type": "code",
   "execution_count": null,
   "id": "11f4455e",
   "metadata": {},
   "outputs": [],
   "source": []
  },
  {
   "cell_type": "code",
   "execution_count": 11,
   "id": "a58d7391",
   "metadata": {},
   "outputs": [],
   "source": [
    "items = ['bread','pasta','fruits','Vegetables']"
   ]
  },
  {
   "cell_type": "code",
   "execution_count": 12,
   "id": "78aac393",
   "metadata": {},
   "outputs": [
    {
     "data": {
      "text/plain": [
       "['bread', 'pasta', 'fruits', 'Vegetables']"
      ]
     },
     "execution_count": 12,
     "metadata": {},
     "output_type": "execute_result"
    }
   ],
   "source": [
    "items"
   ]
  },
  {
   "cell_type": "markdown",
   "id": "773bfa8f",
   "metadata": {},
   "source": [
    "USING APPEND"
   ]
  },
  {
   "cell_type": "code",
   "execution_count": 13,
   "id": "d7a0e6bd",
   "metadata": {},
   "outputs": [],
   "source": [
    "items.append('butter')"
   ]
  },
  {
   "cell_type": "code",
   "execution_count": 14,
   "id": "cb95ef32",
   "metadata": {},
   "outputs": [
    {
     "data": {
      "text/plain": [
       "['bread', 'pasta', 'fruits', 'Vegetables', 'butter']"
      ]
     },
     "execution_count": 14,
     "metadata": {},
     "output_type": "execute_result"
    }
   ],
   "source": [
    "items"
   ]
  },
  {
   "cell_type": "code",
   "execution_count": null,
   "id": "9b96b18c",
   "metadata": {},
   "outputs": [],
   "source": []
  },
  {
   "cell_type": "code",
   "execution_count": 16,
   "id": "d577e128",
   "metadata": {},
   "outputs": [
    {
     "data": {
      "text/plain": [
       "['bread', 'pasta', 'fruits', 'Vegetables']"
      ]
     },
     "execution_count": 16,
     "metadata": {},
     "output_type": "execute_result"
    }
   ],
   "source": [
    "items = ['bread','pasta','fruits','Vegetables']\n",
    "items"
   ]
  },
  {
   "cell_type": "markdown",
   "id": "f353c456",
   "metadata": {},
   "source": [
    "USING INSERT TO A SPECIFIC INDEX"
   ]
  },
  {
   "cell_type": "code",
   "execution_count": 17,
   "id": "cc25100a",
   "metadata": {},
   "outputs": [
    {
     "data": {
      "text/plain": [
       "['bread', 'butter', 'pasta', 'fruits', 'Vegetables']"
      ]
     },
     "execution_count": 17,
     "metadata": {},
     "output_type": "execute_result"
    }
   ],
   "source": [
    "items.insert(1,'butter')\n",
    "items\n"
   ]
  },
  {
   "cell_type": "markdown",
   "id": "72ffd617",
   "metadata": {},
   "source": [
    "JOIN TWO LISTS"
   ]
  },
  {
   "cell_type": "code",
   "execution_count": 2,
   "id": "7c07d5cc",
   "metadata": {},
   "outputs": [
    {
     "data": {
      "text/plain": [
       "['bread', 'pasta', 'fruits', 'shampoo', 'soap']"
      ]
     },
     "execution_count": 2,
     "metadata": {},
     "output_type": "execute_result"
    }
   ],
   "source": [
    "food=['bread','pasta','fruits']\n",
    "bathroom=['shampoo','soap']\n",
    "items=food+bathroom\n",
    "items"
   ]
  },
  {
   "cell_type": "markdown",
   "id": "bd0e2369",
   "metadata": {},
   "source": [
    "COUNT ITEMS IN THE LIST"
   ]
  },
  {
   "cell_type": "code",
   "execution_count": 3,
   "id": "4ac8775f",
   "metadata": {},
   "outputs": [
    {
     "data": {
      "text/plain": [
       "5"
      ]
     },
     "execution_count": 3,
     "metadata": {},
     "output_type": "execute_result"
    }
   ],
   "source": [
    "len(items)"
   ]
  },
  {
   "cell_type": "markdown",
   "id": "be6c9adb",
   "metadata": {},
   "source": [
    "CHECK IF ITEM IS THE LIST USING IN OPERATOR"
   ]
  },
  {
   "cell_type": "code",
   "execution_count": 4,
   "id": "ef0584b1",
   "metadata": {},
   "outputs": [
    {
     "data": {
      "text/plain": [
       "True"
      ]
     },
     "execution_count": 4,
     "metadata": {},
     "output_type": "execute_result"
    }
   ],
   "source": [
    "'fruits' in items"
   ]
  },
  {
   "cell_type": "code",
   "execution_count": 5,
   "id": "0bc398b5",
   "metadata": {},
   "outputs": [
    {
     "data": {
      "text/plain": [
       "False"
      ]
     },
     "execution_count": 5,
     "metadata": {},
     "output_type": "execute_result"
    }
   ],
   "source": [
    "'soda'in items"
   ]
  },
  {
   "cell_type": "code",
   "execution_count": null,
   "id": "89b5873c",
   "metadata": {},
   "outputs": [],
   "source": []
  },
  {
   "cell_type": "code",
   "execution_count": null,
   "id": "2aeaa52c",
   "metadata": {},
   "outputs": [],
   "source": []
  }
 ],
 "metadata": {
  "kernelspec": {
   "display_name": "Python 3 (ipykernel)",
   "language": "python",
   "name": "python3"
  },
  "language_info": {
   "codemirror_mode": {
    "name": "ipython",
    "version": 3
   },
   "file_extension": ".py",
   "mimetype": "text/x-python",
   "name": "python",
   "nbconvert_exporter": "python",
   "pygments_lexer": "ipython3",
   "version": "3.11.4"
  }
 },
 "nbformat": 4,
 "nbformat_minor": 5
}
