{
 "cells": [
  {
   "cell_type": "code",
   "execution_count": 5,
   "id": "a142bf9a",
   "metadata": {},
   "outputs": [],
   "source": [
    "Book={}"
   ]
  },
  {
   "cell_type": "code",
   "execution_count": 8,
   "id": "5c7cd658",
   "metadata": {},
   "outputs": [
    {
     "name": "stdout",
     "output_type": "stream",
     "text": [
      "{\"tom\": {\"name\": \"tom\", \"address\": \"1 red street,NY\", \"phone\": \"989898998\"}, \"bob\": {\"name\": \"bob\", \"address\": \"1 green street,NY\", \"phone\": \"28282828\"}}\n"
     ]
    }
   ],
   "source": [
    "Book['tom']={\n",
    "    'name':'tom',\n",
    "    'address':'1 red street,NY',\n",
    "    'phone':'989898998'\n",
    "}\n",
    "Book['bob']={\n",
    "    'name':'bob',\n",
    "    'address':'1 green street,NY',\n",
    "    'phone':'28282828'\n",
    "}\n",
    "\n",
    "\n",
    "import json\n",
    "s=json.dumps(Book)\n",
    "print(s)"
   ]
  },
  {
   "cell_type": "markdown",
   "id": "3af7dfea",
   "metadata": {},
   "source": [
    "WRITE TO A JSON FILE"
   ]
  },
  {
   "cell_type": "code",
   "execution_count": 9,
   "id": "77ef3189",
   "metadata": {},
   "outputs": [],
   "source": [
    "with open (\"C://Users//Raymond//Desktop//Exercise//Python//Book.txt\",\"w\") as f:\n",
    "    f.write(s)"
   ]
  },
  {
   "cell_type": "markdown",
   "id": "6ac78ea1",
   "metadata": {},
   "source": [
    "READ A JSON FILE"
   ]
  },
  {
   "cell_type": "code",
   "execution_count": 11,
   "id": "e152559c",
   "metadata": {},
   "outputs": [
    {
     "data": {
      "text/plain": [
       "'{\"tom\": {\"name\": \"tom\", \"address\": \"1 red street,NY\", \"phone\": \"989898998\"}, \"bob\": {\"name\": \"bob\", \"address\": \"1 green street,NY\", \"phone\": \"28282828\"}}'"
      ]
     },
     "execution_count": 11,
     "metadata": {},
     "output_type": "execute_result"
    }
   ],
   "source": [
    "f=open(\"C://Users//Raymond//Desktop//Exercise//Python//Book.txt\",\"r\")\n",
    "s=f.read()\n",
    "s"
   ]
  },
  {
   "cell_type": "code",
   "execution_count": 14,
   "id": "7fcde0c3",
   "metadata": {},
   "outputs": [
    {
     "data": {
      "text/plain": [
       "str"
      ]
     },
     "execution_count": 14,
     "metadata": {},
     "output_type": "execute_result"
    }
   ],
   "source": [
    "type(s)"
   ]
  },
  {
   "cell_type": "markdown",
   "id": "6d0db864",
   "metadata": {},
   "source": [
    "CONVERT JSON TO A DICT"
   ]
  },
  {
   "cell_type": "code",
   "execution_count": 12,
   "id": "3da77548",
   "metadata": {},
   "outputs": [
    {
     "data": {
      "text/plain": [
       "{'tom': {'name': 'tom', 'address': '1 red street,NY', 'phone': '989898998'},\n",
       " 'bob': {'name': 'bob', 'address': '1 green street,NY', 'phone': '28282828'}}"
      ]
     },
     "execution_count": 12,
     "metadata": {},
     "output_type": "execute_result"
    }
   ],
   "source": [
    "import json\n",
    "Book=json.loads(s)\n",
    "Book"
   ]
  },
  {
   "cell_type": "code",
   "execution_count": 13,
   "id": "e80b972e",
   "metadata": {},
   "outputs": [
    {
     "data": {
      "text/plain": [
       "dict"
      ]
     },
     "execution_count": 13,
     "metadata": {},
     "output_type": "execute_result"
    }
   ],
   "source": [
    "type(Book)"
   ]
  },
  {
   "cell_type": "markdown",
   "id": "025ad441",
   "metadata": {},
   "source": [
    "READ ITEMS IN A DICT"
   ]
  },
  {
   "cell_type": "code",
   "execution_count": 15,
   "id": "de9c8407",
   "metadata": {},
   "outputs": [
    {
     "data": {
      "text/plain": [
       "{'name': 'bob', 'address': '1 green street,NY', 'phone': '28282828'}"
      ]
     },
     "execution_count": 15,
     "metadata": {},
     "output_type": "execute_result"
    }
   ],
   "source": [
    "Book['bob']"
   ]
  },
  {
   "cell_type": "code",
   "execution_count": 16,
   "id": "5b0e4166",
   "metadata": {},
   "outputs": [
    {
     "data": {
      "text/plain": [
       "'28282828'"
      ]
     },
     "execution_count": 16,
     "metadata": {},
     "output_type": "execute_result"
    }
   ],
   "source": [
    "Book['bob']['phone']"
   ]
  },
  {
   "cell_type": "markdown",
   "id": "e33c4b63",
   "metadata": {},
   "source": [
    "ITERATE THROUGH THE DICT"
   ]
  },
  {
   "cell_type": "code",
   "execution_count": 17,
   "id": "d6f24769",
   "metadata": {},
   "outputs": [
    {
     "name": "stdout",
     "output_type": "stream",
     "text": [
      "{'name': 'tom', 'address': '1 red street,NY', 'phone': '989898998'}\n",
      "{'name': 'bob', 'address': '1 green street,NY', 'phone': '28282828'}\n"
     ]
    }
   ],
   "source": [
    "for person in Book:\n",
    "    print(Book[person])"
   ]
  },
  {
   "cell_type": "code",
   "execution_count": null,
   "id": "dd8470be",
   "metadata": {},
   "outputs": [],
   "source": []
  },
  {
   "cell_type": "code",
   "execution_count": null,
   "id": "ceb60daa",
   "metadata": {},
   "outputs": [],
   "source": []
  },
  {
   "cell_type": "code",
   "execution_count": null,
   "id": "86d15ab4",
   "metadata": {},
   "outputs": [],
   "source": []
  }
 ],
 "metadata": {
  "kernelspec": {
   "display_name": "Python 3 (ipykernel)",
   "language": "python",
   "name": "python3"
  },
  "language_info": {
   "codemirror_mode": {
    "name": "ipython",
    "version": 3
   },
   "file_extension": ".py",
   "mimetype": "text/x-python",
   "name": "python",
   "nbconvert_exporter": "python",
   "pygments_lexer": "ipython3",
   "version": "3.11.4"
  }
 },
 "nbformat": 4,
 "nbformat_minor": 5
}
