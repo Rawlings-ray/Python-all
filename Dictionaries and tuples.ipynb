{
 "cells": [
  {
   "cell_type": "markdown",
   "id": "5814c5fc",
   "metadata": {},
   "source": [
    "DICTIONARIES"
   ]
  },
  {
   "cell_type": "code",
   "execution_count": 1,
   "id": "07d59573",
   "metadata": {},
   "outputs": [],
   "source": [
    "d={\"tom\":7326789820,\"rob\":7325730239,\"joe\":7320923203}"
   ]
  },
  {
   "cell_type": "code",
   "execution_count": 2,
   "id": "8fc0b8c3",
   "metadata": {},
   "outputs": [
    {
     "data": {
      "text/plain": [
       "{'tom': 7326789820, 'rob': 7325730239, 'joe': 7320923203}"
      ]
     },
     "execution_count": 2,
     "metadata": {},
     "output_type": "execute_result"
    }
   ],
   "source": [
    "d"
   ]
  },
  {
   "cell_type": "markdown",
   "id": "30fac438",
   "metadata": {},
   "source": [
    "ACCESS VALUE USING KEY"
   ]
  },
  {
   "cell_type": "code",
   "execution_count": 3,
   "id": "dc13b59f",
   "metadata": {},
   "outputs": [
    {
     "data": {
      "text/plain": [
       "7326789820"
      ]
     },
     "execution_count": 3,
     "metadata": {},
     "output_type": "execute_result"
    }
   ],
   "source": [
    "d[\"tom\"]"
   ]
  },
  {
   "cell_type": "code",
   "execution_count": 4,
   "id": "2d0168ff",
   "metadata": {},
   "outputs": [],
   "source": [
    "d[\"sam\"]=7395679879"
   ]
  },
  {
   "cell_type": "code",
   "execution_count": 5,
   "id": "3406a859",
   "metadata": {},
   "outputs": [
    {
     "data": {
      "text/plain": [
       "{'tom': 7326789820, 'rob': 7325730239, 'joe': 7320923203, 'sam': 7395679879}"
      ]
     },
     "execution_count": 5,
     "metadata": {},
     "output_type": "execute_result"
    }
   ],
   "source": [
    "d"
   ]
  },
  {
   "cell_type": "markdown",
   "id": "0dc746e5",
   "metadata": {},
   "source": [
    "DELETE ITEM IN THE DICTIONARY"
   ]
  },
  {
   "cell_type": "code",
   "execution_count": 6,
   "id": "ede7376c",
   "metadata": {},
   "outputs": [],
   "source": [
    "del d[\"sam\"]"
   ]
  },
  {
   "cell_type": "code",
   "execution_count": 7,
   "id": "7026bda5",
   "metadata": {},
   "outputs": [
    {
     "data": {
      "text/plain": [
       "{'tom': 7326789820, 'rob': 7325730239, 'joe': 7320923203}"
      ]
     },
     "execution_count": 7,
     "metadata": {},
     "output_type": "execute_result"
    }
   ],
   "source": [
    "d"
   ]
  },
  {
   "cell_type": "markdown",
   "id": "e35c30be",
   "metadata": {},
   "source": [
    "ITERATE THROUGH THE DICT"
   ]
  },
  {
   "cell_type": "code",
   "execution_count": 8,
   "id": "93504300",
   "metadata": {},
   "outputs": [
    {
     "name": "stdout",
     "output_type": "stream",
     "text": [
      "key: tom value: 7326789820\n",
      "key: rob value: 7325730239\n",
      "key: joe value: 7320923203\n"
     ]
    }
   ],
   "source": [
    "for key in d:\n",
    "    print(\"key:\",key,\"value:\",d[key])"
   ]
  },
  {
   "cell_type": "code",
   "execution_count": 11,
   "id": "94ccb9bf",
   "metadata": {},
   "outputs": [
    {
     "name": "stdout",
     "output_type": "stream",
     "text": [
      "key: joe values: 7326789820\n",
      "key: joe values: 7325730239\n",
      "key: joe values: 7320923203\n"
     ]
    }
   ],
   "source": [
    "for k,v in d.items():\n",
    "    print(\"key:\",key,\"values:\",v)"
   ]
  },
  {
   "cell_type": "markdown",
   "id": "6a3f60af",
   "metadata": {},
   "source": [
    "USING IN OPERATOR TO SEARCH THE DICTIONARY"
   ]
  },
  {
   "cell_type": "code",
   "execution_count": 12,
   "id": "aa9d1bc2",
   "metadata": {},
   "outputs": [
    {
     "data": {
      "text/plain": [
       "True"
      ]
     },
     "execution_count": 12,
     "metadata": {},
     "output_type": "execute_result"
    }
   ],
   "source": [
    "\"tom\" in d"
   ]
  },
  {
   "cell_type": "code",
   "execution_count": 13,
   "id": "f32d5e64",
   "metadata": {},
   "outputs": [
    {
     "data": {
      "text/plain": [
       "False"
      ]
     },
     "execution_count": 13,
     "metadata": {},
     "output_type": "execute_result"
    }
   ],
   "source": [
    "\"samir\" in d"
   ]
  },
  {
   "cell_type": "markdown",
   "id": "1ce0c496",
   "metadata": {},
   "source": [
    "CLEAR THE DICTIONARY"
   ]
  },
  {
   "cell_type": "code",
   "execution_count": 14,
   "id": "5d369436",
   "metadata": {},
   "outputs": [],
   "source": [
    "d.clear()"
   ]
  },
  {
   "cell_type": "code",
   "execution_count": 15,
   "id": "f1f77228",
   "metadata": {},
   "outputs": [
    {
     "data": {
      "text/plain": [
       "{}"
      ]
     },
     "execution_count": 15,
     "metadata": {},
     "output_type": "execute_result"
    }
   ],
   "source": [
    "d"
   ]
  },
  {
   "cell_type": "markdown",
   "id": "db983365",
   "metadata": {},
   "source": [
    "TUPLE"
   ]
  },
  {
   "cell_type": "code",
   "execution_count": null,
   "id": "aa24e7a5",
   "metadata": {},
   "outputs": [],
   "source": []
  },
  {
   "cell_type": "code",
   "execution_count": null,
   "id": "d0ff1566",
   "metadata": {},
   "outputs": [],
   "source": []
  },
  {
   "cell_type": "code",
   "execution_count": null,
   "id": "425c2064",
   "metadata": {},
   "outputs": [],
   "source": []
  },
  {
   "cell_type": "code",
   "execution_count": null,
   "id": "048d95e8",
   "metadata": {},
   "outputs": [],
   "source": []
  },
  {
   "cell_type": "code",
   "execution_count": null,
   "id": "4981a8f0",
   "metadata": {},
   "outputs": [],
   "source": []
  }
 ],
 "metadata": {
  "kernelspec": {
   "display_name": "Python 3 (ipykernel)",
   "language": "python",
   "name": "python3"
  },
  "language_info": {
   "codemirror_mode": {
    "name": "ipython",
    "version": 3
   },
   "file_extension": ".py",
   "mimetype": "text/x-python",
   "name": "python",
   "nbconvert_exporter": "python",
   "pygments_lexer": "ipython3",
   "version": "3.11.4"
  }
 },
 "nbformat": 4,
 "nbformat_minor": 5
}
